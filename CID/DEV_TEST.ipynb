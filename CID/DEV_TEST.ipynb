{
 "cells": [
  {
   "cell_type": "code",
   "execution_count": 37,
   "id": "54e80b21-9dcb-4928-b736-0290da42b797",
   "metadata": {},
   "outputs": [],
   "source": [
    "import socket\n",
    "\n",
    "def get_ip_address(url):\n",
    "    try:\n",
    "        ip_address = socket.gethostbyname(url)\n",
    "        return ip_address\n",
    "    except socket.gaierror as e:\n",
    "        return f\"Error Resolving hostname: {e}\""
   ]
  },
  {
   "cell_type": "code",
   "execution_count": 41,
   "id": "9cdcb8bd-06d5-4fe2-8066-c3f0e140bc44",
   "metadata": {},
   "outputs": [
    {
     "data": {
      "text/plain": [
       "'192.168.111.18'"
      ]
     },
     "execution_count": 41,
     "metadata": {},
     "output_type": "execute_result"
    }
   ],
   "source": [
    "get_ip_address(\"sscvaultad01\")"
   ]
  },
  {
   "cell_type": "code",
   "execution_count": 135,
   "id": "fa0b00a5-bb9c-419f-bb0e-472222a2cd09",
   "metadata": {},
   "outputs": [],
   "source": [
    "import requests\n",
    "\n",
    "url = \"http://sscvaultad01/api/authenticate\""
   ]
  },
  {
   "cell_type": "code",
   "execution_count": 137,
   "id": "297f6d73-01de-48b7-beb8-fd4abdeffdad",
   "metadata": {},
   "outputs": [],
   "source": [
    "payload = {\n",
    "    \"username\": \"nestes\",\n",
    "    \"password\": \"\"\n",
    "}"
   ]
  },
  {
   "cell_type": "code",
   "execution_count": 139,
   "id": "6b3a714a-e938-4789-9814-067ab74d160c",
   "metadata": {},
   "outputs": [],
   "source": [
    "response = requests.get(url, json=payload)"
   ]
  },
  {
   "cell_type": "code",
   "execution_count": 141,
   "id": "4b96edb2-0865-4404-8bb3-e934b020539e",
   "metadata": {},
   "outputs": [
    {
     "data": {
      "text/plain": [
       "<Response [404]>"
      ]
     },
     "execution_count": 141,
     "metadata": {},
     "output_type": "execute_result"
    }
   ],
   "source": [
    "response"
   ]
  },
  {
   "cell_type": "code",
   "execution_count": 109,
   "id": "720acca1-fc32-46e3-a1d8-f60b218eec0c",
   "metadata": {},
   "outputs": [],
   "source": [
    "response = requests.get(\"http://192.168.111.18\")"
   ]
  },
  {
   "cell_type": "code",
   "execution_count": 113,
   "id": "77a32b2b-da35-4e90-830a-11543c9936af",
   "metadata": {},
   "outputs": [
    {
     "data": {
      "text/plain": [
       "<Response [200]>"
      ]
     },
     "execution_count": 113,
     "metadata": {},
     "output_type": "execute_result"
    }
   ],
   "source": [
    "response"
   ]
  },
  {
   "cell_type": "code",
   "execution_count": 31,
   "id": "5c344571-a9d6-4d31-a308-f3a3902f4b19",
   "metadata": {},
   "outputs": [],
   "source": [
    "import os\n",
    "\n",
    "abspath = os.path.abspath('.\\\\CID\\\\media')\n",
    "\n",
    "file_list = [f\"{abspath}\\\\{file}\" for file in os.listdir(abspath)]"
   ]
  },
  {
   "cell_type": "code",
   "execution_count": 33,
   "id": "e390388f-57e0-4a43-8ca4-ca5ebbe4b9c2",
   "metadata": {},
   "outputs": [
    {
     "data": {
      "text/plain": [
       "['C:\\\\Users\\\\nestes\\\\Desktop\\\\CID\\\\CID\\\\media\\\\1912-00001.pdf',\n",
       " 'C:\\\\Users\\\\nestes\\\\Desktop\\\\CID\\\\CID\\\\media\\\\1912-10022.pdf',\n",
       " 'C:\\\\Users\\\\nestes\\\\Desktop\\\\CID\\\\CID\\\\media\\\\BOE Structure for ROCC Pricing for Team_LKrD29V.xlsx',\n",
       " 'C:\\\\Users\\\\nestes\\\\Desktop\\\\CID\\\\CID\\\\media\\\\Book1.xlsx',\n",
       " 'C:\\\\Users\\\\nestes\\\\Desktop\\\\CID\\\\CID\\\\media\\\\Book2.xlsx',\n",
       " 'C:\\\\Users\\\\nestes\\\\Desktop\\\\CID\\\\CID\\\\media\\\\C17 ROCC CWBS with Data Dictionary V4, 6 Mar 18.xlsx']"
      ]
     },
     "execution_count": 33,
     "metadata": {},
     "output_type": "execute_result"
    }
   ],
   "source": [
    "file_list"
   ]
  },
  {
   "cell_type": "code",
   "execution_count": 37,
   "id": "77724242-e3eb-4972-b623-4e0c39d7ff42",
   "metadata": {},
   "outputs": [],
   "source": [
    "path = \"C:\\\\Users\\\\nestes\\\\Desktop\\\\CID\\\\CID\\\\media\\\\BOE Structure for ROCC Pricing for Team_LKrD29V.xlsx\""
   ]
  },
  {
   "cell_type": "code",
   "execution_count": 39,
   "id": "fcb59103-d1c8-4a0b-b069-b1124211523b",
   "metadata": {},
   "outputs": [],
   "source": [
    "import pandas as pd\n",
    "\n",
    "df = pd.read_excel(path)"
   ]
  },
  {
   "cell_type": "code",
   "execution_count": 43,
   "id": "8069e39b-d98d-4856-8a59-5187a1fc3088",
   "metadata": {},
   "outputs": [],
   "source": [
    "df.columns = df.iloc[0]"
   ]
  },
  {
   "cell_type": "code",
   "execution_count": 47,
   "id": "bd8924b9-8760-4f38-b4db-60dd9d297dd0",
   "metadata": {},
   "outputs": [],
   "source": [
    "df = df[1:]"
   ]
  },
  {
   "cell_type": "code",
   "execution_count": 49,
   "id": "6d961ac4-79c4-4e95-b602-3c4be62f5452",
   "metadata": {},
   "outputs": [
    {
     "data": {
      "text/html": [
       "<div>\n",
       "<style scoped>\n",
       "    .dataframe tbody tr th:only-of-type {\n",
       "        vertical-align: middle;\n",
       "    }\n",
       "\n",
       "    .dataframe tbody tr th {\n",
       "        vertical-align: top;\n",
       "    }\n",
       "\n",
       "    .dataframe thead th {\n",
       "        text-align: right;\n",
       "    }\n",
       "</style>\n",
       "<table border=\"1\" class=\"dataframe\">\n",
       "  <thead>\n",
       "    <tr style=\"text-align: right;\">\n",
       "      <th></th>\n",
       "      <th>BOE #</th>\n",
       "      <th>CLIN</th>\n",
       "      <th>CP or FFP</th>\n",
       "      <th>Assigned To</th>\n",
       "      <th>Contributers</th>\n",
       "      <th>Task Group</th>\n",
       "      <th>SSC Lead</th>\n",
       "    </tr>\n",
       "  </thead>\n",
       "  <tbody>\n",
       "    <tr>\n",
       "      <th>1</th>\n",
       "      <td>1</td>\n",
       "      <td>0001</td>\n",
       "      <td>FFP</td>\n",
       "      <td>NaN</td>\n",
       "      <td>NaN</td>\n",
       "      <td>CR/SA Module Design</td>\n",
       "      <td>J. Crowe</td>\n",
       "    </tr>\n",
       "    <tr>\n",
       "      <th>2</th>\n",
       "      <td>2</td>\n",
       "      <td>0001</td>\n",
       "      <td>FFP</td>\n",
       "      <td>NaN</td>\n",
       "      <td>NaN</td>\n",
       "      <td>SLS Module Design</td>\n",
       "      <td>J. Crowe</td>\n",
       "    </tr>\n",
       "    <tr>\n",
       "      <th>3</th>\n",
       "      <td>3</td>\n",
       "      <td>0001</td>\n",
       "      <td>FFP</td>\n",
       "      <td>NaN</td>\n",
       "      <td>NaN</td>\n",
       "      <td>CR/SA #1 Build, Factory I&amp;T</td>\n",
       "      <td>P. McKeehan</td>\n",
       "    </tr>\n",
       "    <tr>\n",
       "      <th>4</th>\n",
       "      <td>4</td>\n",
       "      <td>0001</td>\n",
       "      <td>FFP</td>\n",
       "      <td>NaN</td>\n",
       "      <td>NaN</td>\n",
       "      <td>SLS #1 Build, Factory I&amp;T</td>\n",
       "      <td>P. McKeehan</td>\n",
       "    </tr>\n",
       "    <tr>\n",
       "      <th>5</th>\n",
       "      <td>5</td>\n",
       "      <td>0001</td>\n",
       "      <td>FFP</td>\n",
       "      <td>NaN</td>\n",
       "      <td>NaN</td>\n",
       "      <td>ROCC #1 Factory I&amp;T</td>\n",
       "      <td>P. McKeehan</td>\n",
       "    </tr>\n",
       "    <tr>\n",
       "      <th>6</th>\n",
       "      <td>6</td>\n",
       "      <td>0002</td>\n",
       "      <td>CPFF</td>\n",
       "      <td>NaN</td>\n",
       "      <td>NaN</td>\n",
       "      <td>Support ROCC #1 Formal Govt AWC Testing</td>\n",
       "      <td>M. Zywien</td>\n",
       "    </tr>\n",
       "    <tr>\n",
       "      <th>7</th>\n",
       "      <td>7</td>\n",
       "      <td>0006</td>\n",
       "      <td>CPFF</td>\n",
       "      <td>NaN</td>\n",
       "      <td>NaN</td>\n",
       "      <td>ROCC #1 Conversion to Production Configuration</td>\n",
       "      <td>J. Crowe</td>\n",
       "    </tr>\n",
       "    <tr>\n",
       "      <th>8</th>\n",
       "      <td>8</td>\n",
       "      <td>0004</td>\n",
       "      <td>FFP</td>\n",
       "      <td>NaN</td>\n",
       "      <td>NaN</td>\n",
       "      <td>Production ROCC (#2)</td>\n",
       "      <td>F. Santo</td>\n",
       "    </tr>\n",
       "    <tr>\n",
       "      <th>9</th>\n",
       "      <td>9</td>\n",
       "      <td>0001     0003</td>\n",
       "      <td>FFP         NSP</td>\n",
       "      <td>NaN</td>\n",
       "      <td>NaN</td>\n",
       "      <td>Systems Engineering (SE) &amp; Tech Data Package (...</td>\n",
       "      <td>P. McKeehan</td>\n",
       "    </tr>\n",
       "    <tr>\n",
       "      <th>10</th>\n",
       "      <td>10</td>\n",
       "      <td>0001</td>\n",
       "      <td>FFP</td>\n",
       "      <td>NaN</td>\n",
       "      <td>NaN</td>\n",
       "      <td>Reliability, Maintainability &amp; Availability (R...</td>\n",
       "      <td>B. Finch</td>\n",
       "    </tr>\n",
       "    <tr>\n",
       "      <th>11</th>\n",
       "      <td>11</td>\n",
       "      <td>0001</td>\n",
       "      <td>FFP</td>\n",
       "      <td>NaN</td>\n",
       "      <td>NaN</td>\n",
       "      <td>Program Management</td>\n",
       "      <td>M. Zywien</td>\n",
       "    </tr>\n",
       "    <tr>\n",
       "      <th>12</th>\n",
       "      <td>12</td>\n",
       "      <td>0001</td>\n",
       "      <td>FFP</td>\n",
       "      <td>NaN</td>\n",
       "      <td>NaN</td>\n",
       "      <td>Production Planning</td>\n",
       "      <td>F. Beafore</td>\n",
       "    </tr>\n",
       "    <tr>\n",
       "      <th>13</th>\n",
       "      <td>13</td>\n",
       "      <td>0008</td>\n",
       "      <td>FFP</td>\n",
       "      <td>NaN</td>\n",
       "      <td>NaN</td>\n",
       "      <td>Training</td>\n",
       "      <td>C. Beard</td>\n",
       "    </tr>\n",
       "    <tr>\n",
       "      <th>14</th>\n",
       "      <td>14</td>\n",
       "      <td>0005</td>\n",
       "      <td>FFP</td>\n",
       "      <td>NaN</td>\n",
       "      <td>NaN</td>\n",
       "      <td>Heavy Maintenance Bench Equipment</td>\n",
       "      <td>B. Finch</td>\n",
       "    </tr>\n",
       "    <tr>\n",
       "      <th>15</th>\n",
       "      <td>15</td>\n",
       "      <td>0007</td>\n",
       "      <td>FFP</td>\n",
       "      <td>NaN</td>\n",
       "      <td>NaN</td>\n",
       "      <td>Spares</td>\n",
       "      <td>B. Finch</td>\n",
       "    </tr>\n",
       "    <tr>\n",
       "      <th>16</th>\n",
       "      <td>16</td>\n",
       "      <td>0009     0010     0011</td>\n",
       "      <td>CPFF     CPFF     CPFF</td>\n",
       "      <td>NaN</td>\n",
       "      <td>NaN</td>\n",
       "      <td>Contractor Operations &amp; Maintenance Support (3...</td>\n",
       "      <td>B. Finch</td>\n",
       "    </tr>\n",
       "  </tbody>\n",
       "</table>\n",
       "</div>"
      ],
      "text/plain": [
       "0  BOE #                    CLIN               CP or FFP Assigned To  \\\n",
       "1      1                    0001                     FFP         NaN   \n",
       "2      2                    0001                     FFP         NaN   \n",
       "3      3                    0001                     FFP         NaN   \n",
       "4      4                    0001                     FFP         NaN   \n",
       "5      5                    0001                     FFP         NaN   \n",
       "6      6                    0002                    CPFF         NaN   \n",
       "7      7                    0006                    CPFF         NaN   \n",
       "8      8                    0004                     FFP         NaN   \n",
       "9      9           0001     0003        FFP         NSP          NaN   \n",
       "10    10                    0001                     FFP         NaN   \n",
       "11    11                    0001                     FFP         NaN   \n",
       "12    12                    0001                     FFP         NaN   \n",
       "13    13                    0008                     FFP         NaN   \n",
       "14    14                    0005                     FFP         NaN   \n",
       "15    15                    0007                     FFP         NaN   \n",
       "16    16  0009     0010     0011  CPFF     CPFF     CPFF         NaN   \n",
       "\n",
       "0  Contributers                                          Task Group  \\\n",
       "1            NaN                                CR/SA Module Design   \n",
       "2            NaN                                  SLS Module Design   \n",
       "3            NaN                        CR/SA #1 Build, Factory I&T   \n",
       "4            NaN                          SLS #1 Build, Factory I&T   \n",
       "5            NaN                                ROCC #1 Factory I&T   \n",
       "6            NaN            Support ROCC #1 Formal Govt AWC Testing   \n",
       "7            NaN     ROCC #1 Conversion to Production Configuration   \n",
       "8            NaN                               Production ROCC (#2)   \n",
       "9            NaN  Systems Engineering (SE) & Tech Data Package (...   \n",
       "10           NaN  Reliability, Maintainability & Availability (R...   \n",
       "11           NaN                                 Program Management   \n",
       "12           NaN                                Production Planning   \n",
       "13           NaN                                           Training   \n",
       "14           NaN                  Heavy Maintenance Bench Equipment   \n",
       "15           NaN                                             Spares   \n",
       "16           NaN  Contractor Operations & Maintenance Support (3...   \n",
       "\n",
       "0      SSC Lead  \n",
       "1      J. Crowe  \n",
       "2      J. Crowe  \n",
       "3   P. McKeehan  \n",
       "4   P. McKeehan  \n",
       "5   P. McKeehan  \n",
       "6     M. Zywien  \n",
       "7      J. Crowe  \n",
       "8      F. Santo  \n",
       "9   P. McKeehan  \n",
       "10     B. Finch  \n",
       "11    M. Zywien  \n",
       "12   F. Beafore  \n",
       "13     C. Beard  \n",
       "14     B. Finch  \n",
       "15     B. Finch  \n",
       "16     B. Finch  "
      ]
     },
     "execution_count": 49,
     "metadata": {},
     "output_type": "execute_result"
    }
   ],
   "source": [
    "df"
   ]
  }
 ],
 "metadata": {
  "kernelspec": {
   "display_name": "Python 3 (ipykernel)",
   "language": "python",
   "name": "python3"
  },
  "language_info": {
   "codemirror_mode": {
    "name": "ipython",
    "version": 3
   },
   "file_extension": ".py",
   "mimetype": "text/x-python",
   "name": "python",
   "nbconvert_exporter": "python",
   "pygments_lexer": "ipython3",
   "version": "3.12.4"
  }
 },
 "nbformat": 4,
 "nbformat_minor": 5
}
